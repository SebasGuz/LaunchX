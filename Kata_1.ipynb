{
 "cells": [
  {
   "cell_type": "markdown",
   "metadata": {},
   "source": [
    "# Creación programa que indique la fecha del dia de hoy"
   ]
  },
  {
   "cell_type": "code",
   "execution_count": 1,
   "metadata": {},
   "outputs": [],
   "source": [
    "from datetime import date"
   ]
  },
  {
   "cell_type": "code",
   "execution_count": 2,
   "metadata": {},
   "outputs": [
    {
     "name": "stdout",
     "output_type": "stream",
     "text": [
      "La fecha deñ dia hoy es:  2022-02-08\n"
     ]
    }
   ],
   "source": [
    "print('La fecha deñ dia hoy es: ', date.today())"
   ]
  },
  {
   "cell_type": "markdown",
   "metadata": {},
   "source": [
    "## Convertidor de parsec a años luz"
   ]
  },
  {
   "cell_type": "code",
   "execution_count": 3,
   "metadata": {},
   "outputs": [
    {
     "name": "stdout",
     "output_type": "stream",
     "text": [
      "11 parsec es igual a : 35.877159999999996 años luz.\n"
     ]
    }
   ],
   "source": [
    "parsec= 11\n",
    "años_luz= parsec * 3.26156\n",
    "print(parsec, 'parsec es igual a :', años_luz, 'años luz.')"
   ]
  }
 ],
 "metadata": {
  "interpreter": {
   "hash": "61ae6adb6e5fe81a200e316519fff6d224f623e4fb4758f7a2084c1877d14a9e"
  },
  "kernelspec": {
   "display_name": "Python 3.9.7 64-bit",
   "language": "python",
   "name": "python3"
  },
  "language_info": {
   "codemirror_mode": {
    "name": "ipython",
    "version": 3
   },
   "file_extension": ".py",
   "mimetype": "text/x-python",
   "name": "python",
   "nbconvert_exporter": "python",
   "pygments_lexer": "ipython3",
   "version": "3.9.7"
  },
  "orig_nbformat": 4
 },
 "nbformat": 4,
 "nbformat_minor": 2
}
